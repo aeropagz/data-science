{
 "cells": [
  {
   "cell_type": "markdown",
   "metadata": {},
   "source": [
    "# Matrix Factorization\n",
    "\n",
    "In this task you are supposed to (manually) implement the matrix factorization variant you learned in the Data Cleaning chapter using the `numpy` library."
   ]
  },
  {
   "cell_type": "code",
   "execution_count": 3,
   "metadata": {},
   "outputs": [],
   "source": [
    "import numpy as np"
   ]
  },
  {
   "cell_type": "markdown",
   "metadata": {},
   "source": [
    "We continue the scenario from the tutorials.\n",
    "\n",
    "Assume that you have a ginormous database $D$ of three users and three movies and ratings provided by some users to some movies, which we represent as a matrix, where the entry $D_{ij}$ represents the rating user $i$ gave to movie $j$.\n",
    "Since not all users have rated movies, and the rating ranges from 1 to 5, we encode missing ratings as 0."
   ]
  },
  {
   "cell_type": "code",
   "execution_count": 5,
   "metadata": {},
   "outputs": [],
   "source": [
    "# missing values encoded as 0\n",
    "# 3x3 Matrix\n",
    "D = [\n",
    "     [3,1,0],\n",
    "     [1,0,3],\n",
    "     [0,3,5],\n",
    "    ]\n",
    "D = np.array(D)\n",
    "n_users = D.shape[0]\n",
    "n_movies = D.shape[1]"
   ]
  },
  {
   "cell_type": "markdown",
   "metadata": {},
   "source": [
    "First, randomly initialize the two factors $E$ and $A$ for $f=2$ latent features. For evaluating the correctness of your results from the tutorial, you may *additionally* provide hard-coded inital factors as they have been provided in the tutorial."
   ]
  },
  {
   "cell_type": "code",
   "execution_count": 110,
   "metadata": {},
   "outputs": [
    {
     "data": {
      "text/plain": [
       "(array([[2.99999905, 1.00000273, 1.98532047],\n",
       "        [1.00000055, 2.01132515, 2.99999924],\n",
       "        [4.15443932, 2.99999838, 5.00000078]]),\n",
       " array([[3, 1, 0],\n",
       "        [1, 0, 3],\n",
       "        [0, 3, 5]]),\n",
       " array([[ 1.90378196e-06, -5.45933415e-06,  0.00000000e+00],\n",
       "        [-1.09592717e-06,  0.00000000e+00,  1.52314402e-06],\n",
       "        [ 0.00000000e+00,  3.23687119e-06, -1.55025938e-06]]))"
      ]
     },
     "execution_count": 110,
     "metadata": {},
     "output_type": "execute_result"
    }
   ],
   "source": [
    "# number of latent features\n",
    "lr = 0.001\n",
    "epochs = 5000\n",
    "f = 2\n",
    "# Random matrix E is N*f, so 3x3\n",
    "E = np.random.normal(0, .1, (n_users,f))\n",
    "# E = np.array([[0.34, 0.67], [0.38, 0.93], [0.21, 0.39]])\n",
    "\n",
    "#Random matrix A is f*M, so 3x3\n",
    "A = np.random.normal(0, .1, (f,n_movies))\n",
    "# A = np.array([[0.45, 0.78, 0.37], [0.02, 0.67, 0.35]])\n",
    "masks_zeros = (D == 0)\n",
    "\n",
    "for i in range(epochs):\n",
    "    d = E @ A\n",
    "    # print(\"D\\n\", D)\n",
    "    # print(\"d\\n\", d)\n",
    "    # print(\"E\\n\", E)\n",
    "    # print(\"D\\n\", D)\n",
    "\n",
    "    diff = 2 * (D - d)\n",
    "    diff[masks_zeros] = D[masks_zeros]\n",
    "    # print(\"diff masked\\n\", diff)\n",
    "\n",
    "    e_errors = diff @ A.T\n",
    "    a_errors = E.T @ diff\n",
    "\n",
    "    E = E + (e_errors * lr)\n",
    "    A = A + (a_errors * lr)\n",
    "    # print(\"e_err\\n\", e_errors)\n",
    "    # print(\"a_err\\n\", a_errors)\n",
    "\n",
    "d,D, diff"
   ]
  },
  {
   "cell_type": "markdown",
   "metadata": {},
   "source": [
    "Implement a function that takes the data matrix $D$, the inital factors $E, A$, the number of epochs (iterations), the learning rate $\\eta$, and performs the factorization of $D$. Use a default number of 5000 for the epochs and 0.001 for $\\eta$.\n",
    "\n",
    "Updates to $E$ and $A$ are applied immediately. $\\tilde{D}$ is updated after an entry from D was completely dealt with. Update ordered by latent features and E before A."
   ]
  },
  {
   "cell_type": "code",
   "execution_count": 66,
   "metadata": {},
   "outputs": [
    {
     "ename": "SyntaxError",
     "evalue": "incomplete input (904152585.py, line 3)",
     "output_type": "error",
     "traceback": [
      "\u001b[0;36m  Cell \u001b[0;32mIn[66], line 3\u001b[0;36m\u001b[0m\n\u001b[0;31m    \u001b[0m\n\u001b[0m    ^\u001b[0m\n\u001b[0;31mSyntaxError\u001b[0m\u001b[0;31m:\u001b[0m incomplete input\n"
     ]
    }
   ],
   "source": [
    "def cmpt(matrixD, facE, facA, iter = 5000, rate = 0.001):\n",
    "    \n",
    "    "
   ]
  },
  {
   "cell_type": "markdown",
   "metadata": {},
   "source": [
    "Now test your matrix factorization for the parameters sepcified above."
   ]
  },
  {
   "cell_type": "code",
   "execution_count": 67,
   "metadata": {},
   "outputs": [],
   "source": [
    "# TODO your code goes here"
   ]
  },
  {
   "cell_type": "code",
   "execution_count": null,
   "metadata": {},
   "outputs": [],
   "source": []
  },
  {
   "cell_type": "code",
   "execution_count": null,
   "metadata": {},
   "outputs": [],
   "source": []
  },
  {
   "cell_type": "code",
   "execution_count": null,
   "metadata": {},
   "outputs": [],
   "source": []
  }
 ],
 "metadata": {
  "kernelspec": {
   "display_name": "Python 3 (ipykernel)",
   "language": "python",
   "name": "python3"
  },
  "language_info": {
   "codemirror_mode": {
    "name": "ipython",
    "version": 3
   },
   "file_extension": ".py",
   "mimetype": "text/x-python",
   "name": "python",
   "nbconvert_exporter": "python",
   "pygments_lexer": "ipython3",
   "version": "3.11.6"
  },
  "vscode": {
   "interpreter": {
    "hash": "ad2bdc8ecc057115af97d19610ffacc2b4e99fae6737bb82f5d7fb13d2f2c186"
   }
  }
 },
 "nbformat": 4,
 "nbformat_minor": 4
}
