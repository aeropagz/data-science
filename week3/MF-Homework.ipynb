{
 "cells": [
  {
   "cell_type": "markdown",
   "metadata": {},
   "source": [
    "# Matrix Factorization\n",
    "\n",
    "In this task you are supposed to (manually) implement the matrix factorization variant you learned in the Data Cleaning chapter using the `numpy` library."
   ]
  },
  {
   "cell_type": "code",
   "execution_count": 14,
   "metadata": {},
   "outputs": [
    {
     "ename": "ModuleNotFoundError",
     "evalue": "No module named 'numpy'",
     "output_type": "error",
     "traceback": [
      "\u001b[0;31m---------------------------------------------------------------------------\u001b[0m",
      "\u001b[0;31mModuleNotFoundError\u001b[0m                       Traceback (most recent call last)",
      "Cell \u001b[0;32mIn[14], line 1\u001b[0m\n\u001b[0;32m----> 1\u001b[0m \u001b[38;5;28;01mimport\u001b[39;00m \u001b[38;5;21;01mnumpy\u001b[39;00m \u001b[38;5;28;01mas\u001b[39;00m \u001b[38;5;21;01mnp\u001b[39;00m\n",
      "\u001b[0;31mModuleNotFoundError\u001b[0m: No module named 'numpy'"
     ]
    }
   ],
   "source": [
    "import numpy as np"
   ]
  },
  {
   "cell_type": "markdown",
   "metadata": {},
   "source": [
    "We continue the scenario from the tutorials.\n",
    "\n",
    "Assume that you have a ginormous database $D$ of three users and three movies and ratings provided by some users to some movies, which we represent as a matrix, where the entry $D_{ij}$ represents the rating user $i$ gave to movie $j$.\n",
    "Since not all users have rated movies, and the rating ranges from 1 to 5, we encode missing ratings as 0."
   ]
  },
  {
   "cell_type": "code",
   "execution_count": 4,
   "metadata": {},
   "outputs": [
    {
     "ename": "NameError",
     "evalue": "name 'np' is not defined",
     "output_type": "error",
     "traceback": [
      "\u001b[0;31m---------------------------------------------------------------------------\u001b[0m",
      "\u001b[0;31mNameError\u001b[0m                                 Traceback (most recent call last)",
      "Cell \u001b[0;32mIn[4], line 7\u001b[0m\n\u001b[1;32m      1\u001b[0m \u001b[38;5;66;03m# missing values encoded as 0\u001b[39;00m\n\u001b[1;32m      2\u001b[0m D \u001b[38;5;241m=\u001b[39m [\n\u001b[1;32m      3\u001b[0m      [\u001b[38;5;241m3\u001b[39m,\u001b[38;5;241m1\u001b[39m,\u001b[38;5;241m0\u001b[39m],\n\u001b[1;32m      4\u001b[0m      [\u001b[38;5;241m1\u001b[39m,\u001b[38;5;241m0\u001b[39m,\u001b[38;5;241m3\u001b[39m],\n\u001b[1;32m      5\u001b[0m      [\u001b[38;5;241m0\u001b[39m,\u001b[38;5;241m3\u001b[39m,\u001b[38;5;241m5\u001b[39m],\n\u001b[1;32m      6\u001b[0m     ]\n\u001b[0;32m----> 7\u001b[0m D \u001b[38;5;241m=\u001b[39m \u001b[43mnp\u001b[49m\u001b[38;5;241m.\u001b[39marray(D)\n\u001b[1;32m      9\u001b[0m N \u001b[38;5;241m=\u001b[39m \u001b[38;5;28mlen\u001b[39m(D)\n\u001b[1;32m     10\u001b[0m M \u001b[38;5;241m=\u001b[39m \u001b[38;5;28mlen\u001b[39m\n",
      "\u001b[0;31mNameError\u001b[0m: name 'np' is not defined"
     ]
    }
   ],
   "source": [
    "# missing values encoded as 0\n",
    "# 3x3 Matrix\n",
    "D = [\n",
    "     [3,1,0],\n",
    "     [1,0,3],\n",
    "     [0,3,5],\n",
    "    ]\n",
    "D = np.array(D)\n",
    "\n",
    "N = len(D)\n",
    "M = len(D)"
   ]
  },
  {
   "cell_type": "markdown",
   "metadata": {},
   "source": [
    "First, randomly initialize the two factors $E$ and $A$ for $f=2$ latent features. For evaluating the correctness of your results from the tutorial, you may *additionally* provide hard-coded inital factors as they have been provided in the tutorial."
   ]
  },
  {
   "cell_type": "code",
   "execution_count": 5,
   "metadata": {},
   "outputs": [],
   "source": [
    "# number of latent features\n",
    "f = 2\n",
    "# Random matrix E is N*f, so 3x3\n",
    "E = np.random.rand(3,3)\n",
    "\n",
    "# Random matrix A is f*M, so 3x3\n",
    "A = np.random.rand(3,3)\n",
    "\n",
    "nonzero_indices = np.nonzero(D)\n",
    "row = nonzero_indices[0][0]\n",
    "col = nonzero_indices[1][0]\n",
    "working = D[row, col]\n",
    "from functools import reduce\n",
    "e = reduce(lambda x, y: x + y, E[row])\n",
    "a = 0\n",
    "for val in D:\n",
    "    a += val[col]\n",
    "maybe = e*a\n",
    "err = pow((working - maybe), 2)\n",
    "\n",
    "for val in E[row]:\n",
    "    val = val + 0.001 * 2 * (working - maybe) * a\n",
    "\n",
    "\n",
    "\n",
    "\n"
   ]
  },
  {
   "cell_type": "markdown",
   "metadata": {},
   "source": [
    "Implement a function that takes the data matrix $D$, the inital factors $E, A$, the number of epochs (iterations), the learning rate $\\eta$, and performs the factorization of $D$. Use a default number of 5000 for the epochs and 0.001 for $\\eta$.\n",
    "\n",
    "Updates to $E$ and $A$ are applied immediately. $\\tilde{D}$ is updated after an entry from D was completely dealt with. Update ordered by latent features and E before A."
   ]
  },
  {
   "cell_type": "code",
   "execution_count": 6,
   "metadata": {},
   "outputs": [],
   "source": [
    "def cmpt(matrixD, facE, facA, iter = 5000, rate = 0.001):\n",
    "    \n",
    "    "
   ]
  },
  {
   "cell_type": "markdown",
   "metadata": {},
   "source": [
    "Now test your matrix factorization for the parameters sepcified above."
   ]
  },
  {
   "cell_type": "code",
   "execution_count": 7,
   "metadata": {},
   "outputs": [],
   "source": [
    "# TODO your code goes here"
   ]
  },
  {
   "cell_type": "code",
   "execution_count": null,
   "metadata": {},
   "outputs": [],
   "source": []
  },
  {
   "cell_type": "code",
   "execution_count": null,
   "metadata": {},
   "outputs": [],
   "source": []
  },
  {
   "cell_type": "code",
   "execution_count": null,
   "metadata": {},
   "outputs": [],
   "source": []
  }
 ],
 "metadata": {
  "kernelspec": {
   "display_name": "Python 3 (ipykernel)",
   "language": "python",
   "name": "python3"
  },
  "language_info": {
   "codemirror_mode": {
    "name": "ipython",
    "version": 3
   },
   "file_extension": ".py",
   "mimetype": "text/x-python",
   "name": "python",
   "nbconvert_exporter": "python",
   "pygments_lexer": "ipython3",
   "version": "3.12.0"
  },
  "vscode": {
   "interpreter": {
    "hash": "ad2bdc8ecc057115af97d19610ffacc2b4e99fae6737bb82f5d7fb13d2f2c186"
   }
  }
 },
 "nbformat": 4,
 "nbformat_minor": 4
}
