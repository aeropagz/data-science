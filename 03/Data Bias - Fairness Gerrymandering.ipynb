{
 "cells": [
  {
   "cell_type": "markdown",
   "id": "5a2d2714",
   "metadata": {},
   "source": [
    "# Data Bias: Fairness Gerrymandering\n",
    "\n",
    "In this exercise you will slip into the role of data scientists that are requested as data experts for a judicial dispute.\n",
    "The scenario in dispute is as follows:\n",
    "\n",
    "A woman of color applied for a job at the company *MajorEngine*, but got rejected.\n",
    "She suspects that she got turned down for racist and sexist reasons, *i.e.* because she is a woman of color.\n",
    "*MajorEngine* refutes this claim and provides employment records in court in order to disprove the claims."
   ]
  },
  {
   "cell_type": "code",
   "execution_count": 13,
   "id": "9f63ab60",
   "metadata": {},
   "outputs": [
    {
     "data": {
      "text/html": [
       "<div>\n",
       "<style scoped>\n",
       "    .dataframe tbody tr th:only-of-type {\n",
       "        vertical-align: middle;\n",
       "    }\n",
       "\n",
       "    .dataframe tbody tr th {\n",
       "        vertical-align: top;\n",
       "    }\n",
       "\n",
       "    .dataframe thead th {\n",
       "        text-align: right;\n",
       "    }\n",
       "</style>\n",
       "<table border=\"1\" class=\"dataframe\">\n",
       "  <thead>\n",
       "    <tr style=\"text-align: right;\">\n",
       "      <th></th>\n",
       "      <th>gender</th>\n",
       "      <th>race</th>\n",
       "    </tr>\n",
       "  </thead>\n",
       "  <tbody>\n",
       "    <tr>\n",
       "      <th>0</th>\n",
       "      <td>male</td>\n",
       "      <td>white</td>\n",
       "    </tr>\n",
       "    <tr>\n",
       "      <th>1</th>\n",
       "      <td>female</td>\n",
       "      <td>white</td>\n",
       "    </tr>\n",
       "    <tr>\n",
       "      <th>2</th>\n",
       "      <td>female</td>\n",
       "      <td>white</td>\n",
       "    </tr>\n",
       "    <tr>\n",
       "      <th>3</th>\n",
       "      <td>male</td>\n",
       "      <td>white</td>\n",
       "    </tr>\n",
       "    <tr>\n",
       "      <th>4</th>\n",
       "      <td>male</td>\n",
       "      <td>hispanic</td>\n",
       "    </tr>\n",
       "  </tbody>\n",
       "</table>\n",
       "</div>"
      ],
      "text/plain": [
       "   gender      race\n",
       "0    male     white\n",
       "1  female     white\n",
       "2  female     white\n",
       "3    male     white\n",
       "4    male  hispanic"
      ]
     },
     "execution_count": 13,
     "metadata": {},
     "output_type": "execute_result"
    }
   ],
   "source": [
    "import pandas as pd\n",
    "import matplotlib.pyplot as plt\n",
    "        \n",
    "# load the data from the file 'hiring_records_MajorEngine.csv' and inspect the first rows with the pandas function 'head'\n",
    "# TODO: Your code goes here\n",
    "\n",
    "df = pd.read_csv(\"hiring_records_MajorEngine.csv\")\n",
    "df.head()"
   ]
  },
  {
   "cell_type": "markdown",
   "id": "1786d904",
   "metadata": {},
   "source": [
    "### Task 1\n",
    "\n",
    "Slip into the role of a data scientist hired by *MajorEngine* in order to show that based on the employment records \n",
    "\n",
    "__(a)__ the company has no racist hiring policy, and \n",
    "\n",
    "__(b)__ has no strongly sexist hiring policy. Note that according to the [2020 U.S. census](https://en.wikipedia.org/wiki/Race_and_ethnicity_in_the_United_States), the perfect, expected percentage of white employees would be 61.6%.\n",
    "\n",
    "Use bar charts to convey your findings to a lay person and write a comment that explains your figure in favor of *MajorEngine*.\n",
    "\n",
    "*Hint: While exploring the dataset, look at the ratio of white employees vs. non-white employees, and the ratio of male employees vs. non-male employees. It can also be useful to create a plot of the ideal distribution as comparison.*"
   ]
  },
  {
   "cell_type": "code",
   "execution_count": 62,
   "id": "7da46571",
   "metadata": {},
   "outputs": [
    {
     "data": {
      "text/plain": [
       "Text(0, 0.5, '')"
      ]
     },
     "execution_count": 62,
     "metadata": {},
     "output_type": "execute_result"
    },
    {
     "data": {
      "image/png": "[encoded data removed]",
      "text/plain": [
       "<Figure size 640x480 with 1 Axes>"
      ]
     },
     "metadata": {},
     "output_type": "display_data"
    }
   ],
   "source": [
    "# Part (a): show that MajorEngine has no strongly racist hiring policy\n",
    "\n",
    "# TODO: Your code goes here\n",
    "x = df[\"race\"].value_counts(normalize=True)*100\n",
    "x.rename(\"race\")\n",
    "ax = x.plot.pie(autopct='%1.1f%%', labels=x.index)\n",
    "plt.title('Distribution of Races')\n",
    "plt.ylabel('')\n"
   ]
  },
  {
   "cell_type": "code",
   "execution_count": 3,
   "id": "c71d2528",
   "metadata": {},
   "outputs": [],
   "source": [
    "# Part (b): Show that MajorEngine has no sexist hiring policy\n",
    "\n",
    "# TODO: Your code goes here"
   ]
  },
  {
   "cell_type": "markdown",
   "id": "8e2d2664",
   "metadata": {},
   "source": [
    "### Task 2\n",
    "\n",
    "Slip into the role of a data scientist that works pro bono in order to demonstrate that *MajorEngine* has exhibited a bias in the past and thus is likely to have treated the woman of color unfairly.\n",
    "\n",
    "Use a confusion matrix to convey your findings to a lay person.\n",
    "\n",
    "*Hint: While superficially, the argumentation form task 1 may seem sound, you have the sneaking suspicion that you should look at the two attributes 'race' and 'gender' in combination instead of separately.*\n",
    "\n",
    "*Second hint: You may create a makeshift confusion matrix by creating another pandas dataframe of the four intersectional values and renaming columns and index.*"
   ]
  },
  {
   "cell_type": "code",
   "execution_count": 4,
   "id": "a0ff5063",
   "metadata": {},
   "outputs": [],
   "source": [
    "# TODO: Your code goes here"
   ]
  },
  {
   "cell_type": "markdown",
   "id": "44a307d9",
   "metadata": {},
   "source": [
    "Side note: The court case and its arguments are based on a true story. The provided data is obviously made up in order to paint a clearer picture for pedagogic reasons."
   ]
  }
 ],
 "metadata": {
  "kernelspec": {
   "display_name": "Python 3",
   "language": "python",
   "name": "python3"
  },
  "language_info": {
   "codemirror_mode": {
    "name": "ipython",
    "version": 3
   },
   "file_extension": ".py",
   "mimetype": "text/x-python",
   "name": "python",
   "nbconvert_exporter": "python",
   "pygments_lexer": "ipython3",
   "version": "3.11.6"
  }
 },
 "nbformat": 4,
 "nbformat_minor": 5
}
